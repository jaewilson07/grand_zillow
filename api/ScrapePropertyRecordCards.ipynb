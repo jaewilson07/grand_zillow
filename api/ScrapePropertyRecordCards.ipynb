{
 "cells": [
  {
   "cell_type": "markdown",
   "metadata": {},
   "source": [
    "# Property Record Card Scraper"
   ]
  },
  {
   "cell_type": "code",
   "execution_count": 49,
   "metadata": {},
   "outputs": [
    {
     "name": "stdout",
     "output_type": "stream",
     "text": [
      "50jKEclwI6xX4qBie_0Pf7u21njCjRL_90qE_suwZiM bolt://localhost:7687 neo4j\n"
     ]
    }
   ],
   "source": [
    "from dotenv import load_dotenv\n",
    "load_dotenv()\n",
    "\n",
    "password = os.environ.get('NEO4J_PASSWORD')\n",
    "uri = os.environ.get('NEO4J_URI')\n",
    "user = os.environ.get('NEO4J_USER')\n",
    "\n",
    "print (password, uri , user)"
   ]
  },
  {
   "cell_type": "code",
   "execution_count": 50,
   "metadata": {},
   "outputs": [],
   "source": [
    "import urllib\n",
    "from bs4 import BeautifulSoup\n",
    "import csv\n",
    "import requests\n",
    "import cssutils\n",
    "from neo4j import *\n",
    "import csv\n",
    "import time"
   ]
  },
  {
   "cell_type": "code",
   "execution_count": 51,
   "metadata": {},
   "outputs": [],
   "source": [
    "\n",
    "query = \"\"\"\n",
    "MATCH (p:property) WHERE EXISTS(p.id)\n",
    "RETURN COLLECT(p.id) AS geocodes\n",
    "\"\"\"\n",
    "driver = GraphDatabase.driver(uri, auth=(user, password))\n",
    "\n",
    "with driver.session() as session:\n",
    "        results = session.run(query)\n",
    "        for r in results:\n",
    "            geocodes = r.get(\"geocodes\")"
   ]
  },
  {
   "cell_type": "code",
   "execution_count": 52,
   "metadata": {},
   "outputs": [
    {
     "data": {
      "text/plain": [
       "50382"
      ]
     },
     "execution_count": 52,
     "metadata": {},
     "output_type": "execute_result"
    }
   ],
   "source": [
    "len(geocodes)"
   ]
  },
  {
   "cell_type": "code",
   "execution_count": 53,
   "metadata": {},
   "outputs": [],
   "source": [
    "def format_geocode(id):\n",
    "    return id[0:2] + '-' + id[2:6] + '-' + id[6:8] + '-' + id[8:9] + '-' + id[9:11] + '-' + id[11:13] + '-' + id[13:17]"
   ]
  },
  {
   "cell_type": "code",
   "execution_count": 54,
   "metadata": {},
   "outputs": [],
   "source": [
    "def get_key(long_key):\n",
    "    if long_key == 'Property Category:':\n",
    "        return \"category\"\n",
    "    elif long_key == 'Subcategory:':\n",
    "        return \"subcategory\"\n",
    "    elif long_key == 'PropertyAddress:':\n",
    "        return \"address\"\n",
    "    elif long_key == 'Subdivision:':\n",
    "        return \"subdivision\"\n",
    "    elif long_key == 'Last Modified:':\n",
    "        return \"modified\"\n",
    "    elif long_key == 'Neighborhood:':\n",
    "        return \"neighborhood\"\n",
    "    elif long_key == 'Square Feet:':\n",
    "        return \"lot_size\"\n",
    "    elif long_key == 'Acres:':\n",
    "        return \"acres\"\n",
    "    elif long_key == 'Year Built:':\n",
    "        return \"year_built\"\n",
    "    elif long_key == 'Style:':\n",
    "        return \"style\"\n",
    "    elif long_key == 'System Type:':\n",
    "        return \"heating\"\n",
    "    elif long_key == 'SFLA:':\n",
    "        return \"sqft\"\n",
    "    elif long_key == 'Bedrooms:':\n",
    "        return \"bedrooms\"\n",
    "    elif long_key == 'Full Baths:':\n",
    "        return \"full_baths\"\n",
    "    elif long_key == 'Half Baths:':\n",
    "        return \"half_baths\""
   ]
  },
  {
   "cell_type": "code",
   "execution_count": 55,
   "metadata": {},
   "outputs": [],
   "source": [
    "def get_appraisal_obj(appraisal_list):\n",
    "    app_obj = {}\n",
    "    app_obj['year'] = appraisal_list[0].text\n",
    "    app_obj['land'] = appraisal_list[1].text\n",
    "    app_obj['building'] = appraisal_list[2].text\n",
    "    app_obj['total'] = appraisal_list[3].text\n",
    "    app_obj['method'] = appraisal_list[4].text\n",
    "    return app_obj"
   ]
  },
  {
   "cell_type": "code",
   "execution_count": 56,
   "metadata": {},
   "outputs": [],
   "source": [
    "# http://svc.mt.gov/msl/MTCadastral/PrintPropertyRecordCard/GetPropertyRecordCardData?geocode=06-0062-34-2-14-14-0000&year=2020\"\n",
    "def get_appraisals_for_geocode(geocode):\n",
    "    url = \"http://svc.mt.gov/msl/MTCadastral/PrintPropertyRecordCard/GetPropertyRecordCardData?geocode=\" + format_geocode(geocode) + \"&year=2020\"\n",
    "    page = requests.get(url).text\n",
    "    soup = BeautifulSoup(page, 'html.parser')\n",
    "    \n",
    "    app_list = []\n",
    "    \n",
    "    el = soup.find('div', attrs={'id': 'appraisalsPane'})\n",
    "    datums = el.findChildren('td')\n",
    "    if len(datums) > 1:\n",
    "        app_datums = [datums[i:i+5] for i in range(0, len(datums), 5)]\n",
    "        for a_d in app_datums:\n",
    "            app_obj = get_appraisal_obj(a_d)\n",
    "            app_obj['id'] = geocode\n",
    "            app_list.append(app_obj)\n",
    "    return app_list"
   ]
  },
  {
   "cell_type": "code",
   "execution_count": 57,
   "metadata": {},
   "outputs": [],
   "source": [
    "# http://svc.mt.gov/msl/MTCadastral/PrintPropertyRecordCard/GetPropertyRecordCardData?geocode=06-0062-34-2-14-14-0000&year=2020\"\n",
    "def get_values_for_geocode(geocode):\n",
    "    url = \"http://svc.mt.gov/msl/MTCadastral/PrintPropertyRecordCard/GetPropertyRecordCardData?geocode=\" + format_geocode(geocode) + \"&year=2020\"\n",
    "    page = requests.get(url).text\n",
    "    soup = BeautifulSoup(page, 'html.parser')\n",
    "    features = {}\n",
    "    features['id'] = geocode\n",
    "    keys = soup.find_all('span', attrs={'class': 'key'})\n",
    "    for el in keys:\n",
    "        if el.text in ['Property Category:', 'Subcategory:','PropertyAddress:', 'Subdivision:','Last Modified:', 'Neighborhood:','Square Feet:', 'Acres:','Year Built:','Style:', 'System Type:', 'SFLA:', 'Bedrooms:', 'Full Baths:', 'Half Baths:', ]:\n",
    "            if el.find_next_sibling('span'):\n",
    "                key = get_key(el.text)\n",
    "                value = el.find_next_sibling('span').text.strip()\n",
    "                features[key] = value\n",
    "    return features"
   ]
  },
  {
   "cell_type": "code",
   "execution_count": 58,
   "metadata": {},
   "outputs": [],
   "source": [
    "features_list = []\n",
    "startRange= 6000\n",
    "endRange = 7000"
   ]
  },
  {
   "cell_type": "code",
   "execution_count": 59,
   "metadata": {},
   "outputs": [],
   "source": [
    "for i in geocodes[startRange:endRange]:\n",
    "    try:\n",
    "        feats = get_values_for_geocode(i)\n",
    "        features_list.append(feats)\n",
    "    except:\n",
    "        time.sleep(.5)\n",
    "    time.sleep(0.1)"
   ]
  },
  {
   "cell_type": "markdown",
   "metadata": {},
   "source": []
  },
  {
   "cell_type": "code",
   "execution_count": null,
   "metadata": {},
   "outputs": [
    {
     "data": {
      "text/plain": [
       "1000"
      ]
     },
     "execution_count": 44,
     "metadata": {},
     "output_type": "execute_result"
    }
   ],
   "source": [
    "len(features_list)\n"
   ]
  },
  {
   "cell_type": "code",
   "execution_count": null,
   "metadata": {},
   "outputs": [],
   "source": [
    "with open('property_features'+str(startRange)+'.csv', 'w', newline='') as csvfile:\n",
    "    fieldnames = [\"id\",\"category\",\"subcategory\", \"address\", \"subdivision\", \"modified\", \"neighborhood\", \"lot_size\", \"acres\", \"year_built\", \"style\", \"heating\", \"sqft\", \"bedrooms\", \"full_baths\", \"half_baths\"]\n",
    "    writer = csv.DictWriter(csvfile, fieldnames=fieldnames)\n",
    "    writer.writeheader()\n",
    "    for d in features_list:\n",
    "        writer.writerow(d)"
   ]
  },
  {
   "cell_type": "code",
   "execution_count": null,
   "metadata": {},
   "outputs": [],
   "source": []
  },
  {
   "cell_type": "code",
   "execution_count": null,
   "metadata": {},
   "outputs": [],
   "source": [
    "appraisals_list = []\n",
    "for i in geocodes[startRange:endRange]:\n",
    "    try:\n",
    "        appraisals = get_appraisals_for_geocode(i)\n",
    "        appraisals_list.append(appraisals)\n",
    "    except:\n",
    "        time.sleep(1)\n",
    "    time.sleep(0.1)"
   ]
  },
  {
   "cell_type": "code",
   "execution_count": null,
   "metadata": {},
   "outputs": [
    {
     "data": {
      "text/plain": [
       "1000"
      ]
     },
     "execution_count": 47,
     "metadata": {},
     "output_type": "execute_result"
    }
   ],
   "source": [
    "len(appraisals_list)"
   ]
  },
  {
   "cell_type": "code",
   "execution_count": null,
   "metadata": {},
   "outputs": [],
   "source": [
    "with open('appraisals_full' + str(startRange) + '.csv', 'w', newline='') as csvfile:\n",
    "    fieldnames = [\"id\",\"year\",\"land\", \"building\", \"total\", \"method\"]\n",
    "    writer = csv.DictWriter(csvfile, fieldnames=fieldnames)\n",
    "    writer.writeheader()\n",
    "    for prop in appraisals_list:\n",
    "        for a in prop:\n",
    "            writer.writerow(a)"
   ]
  },
  {
   "cell_type": "code",
   "execution_count": null,
   "metadata": {},
   "outputs": [],
   "source": []
  }
 ],
 "metadata": {
  "interpreter": {
   "hash": "ecf5722fdaf1897a315d257d89d94520bfcaa453217d5becf09b39e73618b0de"
  },
  "kernelspec": {
   "display_name": "Python 3.9.5 64-bit ('base': conda)",
   "name": "python3"
  },
  "language_info": {
   "codemirror_mode": {
    "name": "ipython",
    "version": 3
   },
   "file_extension": ".py",
   "mimetype": "text/x-python",
   "name": "python",
   "nbconvert_exporter": "python",
   "pygments_lexer": "ipython3",
   "version": "3.9.5"
  }
 },
 "nbformat": 4,
 "nbformat_minor": 2
}
